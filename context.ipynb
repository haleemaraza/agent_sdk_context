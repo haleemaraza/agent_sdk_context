{
  "nbformat": 4,
  "nbformat_minor": 0,
  "metadata": {
    "colab": {
      "provenance": [],
      "authorship_tag": "ABX9TyN8gLc32alVzs6xV5bYR86y",
      "include_colab_link": true
    },
    "kernelspec": {
      "name": "python3",
      "display_name": "Python 3"
    },
    "language_info": {
      "name": "python"
    }
  },
  "cells": [
    {
      "cell_type": "markdown",
      "metadata": {
        "id": "view-in-github",
        "colab_type": "text"
      },
      "source": [
        "<a href=\"https://colab.research.google.com/github/haleemaraza/agent_sdk_context/blob/main/context.ipynb\" target=\"_parent\"><img src=\"https://colab.research.google.com/assets/colab-badge.svg\" alt=\"Open In Colab\"/></a>"
      ]
    },
    {
      "cell_type": "code",
      "execution_count": 13,
      "metadata": {
        "id": "S1LVsx42zWGQ"
      },
      "outputs": [],
      "source": [
        "!pip install -Uq openai-agents"
      ]
    },
    {
      "cell_type": "code",
      "source": [
        "import nest_asyncio\n",
        "nest_asyncio.apply()"
      ],
      "metadata": {
        "id": "ofnBA2IjzhL8"
      },
      "execution_count": 14,
      "outputs": []
    },
    {
      "cell_type": "code",
      "source": [
        "from pydantic import BaseModel\n",
        "from agents import AsyncOpenAI, OpenAIChatCompletionsModel, RunConfig\n",
        "from google.colab import userdata"
      ],
      "metadata": {
        "id": "cH-bzo6nz6RM"
      },
      "execution_count": 15,
      "outputs": []
    },
    {
      "cell_type": "code",
      "source": [
        "google_api_key= userdata.get(\"GOOGLE_API_KEY\")\n",
        "\n",
        "if not google_api_key:\n",
        "  raise ValueError(\"GOOGLE_API_KEY please ensure itis defined in your .env file.\")\n",
        "\n",
        "external_client=AsyncOpenAI(\n",
        "    api_key=google_api_key,\n",
        "    base_url=\"https://generativelanguage.googleapis.com/v1beta/openai\",\n",
        ")\n",
        "\n",
        "model= OpenAIChatCompletionsModel(\n",
        "    model=\"gemini-2.0-flash\",\n",
        "    openai_client=external_client\n",
        ")\n"
      ],
      "metadata": {
        "id": "g-D8pK6mBTkJ"
      },
      "execution_count": 20,
      "outputs": []
    },
    {
      "cell_type": "code",
      "source": [
        "from agents import set_tracing_disabled\n",
        "set_tracing_disabled(True)"
      ],
      "metadata": {
        "id": "H9f8GIIbBi52"
      },
      "execution_count": 21,
      "outputs": []
    },
    {
      "cell_type": "code",
      "source": [
        "import asyncio\n",
        "from dataclasses import dataclass\n",
        "from agents import Agent, RunContextWrapper,Runner, function_tool\n",
        "\n",
        "@dataclass\n",
        "class UserInfo:\n",
        "  name:str\n",
        "  uid:int\n",
        "  age:int\n",
        "  location:str=\"Pakistan\"\n",
        "\n",
        "@function_tool\n",
        "async def fetch_user_age(wrapper:RunContextWrapper[UserInfo]) -> str:\n",
        "    '''Returns the age of the user'''\n",
        "    print(\"[->Tool]\",wrapper,\"\\n\\n\")\n",
        "    return f\"User {wrapper.context.name} is {wrapper.context.age} years old\"\n",
        "\n",
        "@function_tool\n",
        "async def fetch_user_location(wrapper:RunContextWrapper[UserInfo]) -> str:\n",
        "    '''Returns the current location of the user'''\n",
        "    print(\"[->Tool Current location]\",wrapper,\"\\n\\n\")\n",
        "    return f\"User {wrapper.context.name} is the current at {wrapper.context.location}\"\n",
        "\n",
        "async def main():\n",
        "  user_info=UserInfo(name=\"Arfa\", uid=28, age=18)\n",
        "\n",
        "  agent =Agent[UserInfo](\n",
        "      name=\"Assistant\",\n",
        "      tools=[fetch_user_age,fetch_user_location],\n",
        "      model=model\n",
        "  )\n",
        "\n",
        "  result= await Runner.run(\n",
        "      starting_agent=agent,\n",
        "      input=\"what is the age and location of the user?\",\n",
        "      context=user_info,\n",
        "  )\n",
        "  print(result.final_output)\n",
        "\n",
        "if __name__ == \"__main__\":\n",
        "    asyncio.run(main())"
      ],
      "metadata": {
        "colab": {
          "base_uri": "https://localhost:8080/"
        },
        "id": "Ug2cSu8sEnkQ",
        "outputId": "269205b9-de6b-4cbf-c4e3-fecfc3ec4b3c"
      },
      "execution_count": 23,
      "outputs": [
        {
          "output_type": "stream",
          "name": "stdout",
          "text": [
            "[->Tool] ToolContext(context=UserInfo(name='Arfa', uid=28, age=18, location='Pakistan'), usage=Usage(requests=1, input_tokens=33, input_tokens_details=InputTokensDetails(cached_tokens=0), output_tokens=10, output_tokens_details=OutputTokensDetails(reasoning_tokens=0), total_tokens=43), tool_name='fetch_user_age', tool_call_id='') \n",
            "\n",
            "\n",
            "[->Tool Current location] ToolContext(context=UserInfo(name='Arfa', uid=28, age=18, location='Pakistan'), usage=Usage(requests=1, input_tokens=33, input_tokens_details=InputTokensDetails(cached_tokens=0), output_tokens=10, output_tokens_details=OutputTokensDetails(reasoning_tokens=0), total_tokens=43), tool_name='fetch_user_location', tool_call_id='') \n",
            "\n",
            "\n",
            "The user is 18 years old and is currently located in Pakistan.\n",
            "\n"
          ]
        }
      ]
    },
    {
      "cell_type": "code",
      "source": [],
      "metadata": {
        "id": "yAmBsXxbMjnv"
      },
      "execution_count": null,
      "outputs": []
    }
  ]
}